{
 "cells": [
  {
   "cell_type": "code",
   "execution_count": 1,
   "id": "95d2f316",
   "metadata": {},
   "outputs": [],
   "source": [
    "import numpy as np\n",
    "import pandas as pd "
   ]
  },
  {
   "cell_type": "markdown",
   "id": "9e297f07",
   "metadata": {},
   "source": [
    "### STEP 4 : Removing Duplicates"
   ]
  },
  {
   "cell_type": "markdown",
   "id": "f2b702af",
   "metadata": {},
   "source": [
    "# STEP 1: Loading the data."
   ]
  },
  {
   "cell_type": "code",
   "execution_count": 2,
   "id": "5feafd08",
   "metadata": {},
   "outputs": [],
   "source": [
    "messy_data=pd.read_csv(\"messy_data.csv\")"
   ]
  },
  {
   "cell_type": "code",
   "execution_count": 3,
   "id": "0aba439a",
   "metadata": {},
   "outputs": [
    {
     "data": {
      "text/html": [
       "<div>\n",
       "<style scoped>\n",
       "    .dataframe tbody tr th:only-of-type {\n",
       "        vertical-align: middle;\n",
       "    }\n",
       "\n",
       "    .dataframe tbody tr th {\n",
       "        vertical-align: top;\n",
       "    }\n",
       "\n",
       "    .dataframe thead th {\n",
       "        text-align: right;\n",
       "    }\n",
       "</style>\n",
       "<table border=\"1\" class=\"dataframe\">\n",
       "  <thead>\n",
       "    <tr style=\"text-align: right;\">\n",
       "      <th></th>\n",
       "      <th>Unnamed: 0</th>\n",
       "      <th>ID</th>\n",
       "      <th>Name</th>\n",
       "      <th>Age</th>\n",
       "      <th>Email</th>\n",
       "      <th>Join Date</th>\n",
       "      <th>Salary</th>\n",
       "      <th>Department</th>\n",
       "    </tr>\n",
       "  </thead>\n",
       "  <tbody>\n",
       "    <tr>\n",
       "      <th>0</th>\n",
       "      <td>0</td>\n",
       "      <td>1e407ff9-6255-489d-a0de-34135d4f74bd</td>\n",
       "      <td>Hunter Thomas</td>\n",
       "      <td>25.0</td>\n",
       "      <td>xlopez@hotmail.com</td>\n",
       "      <td>NaN</td>\n",
       "      <td>88552.000000</td>\n",
       "      <td>Sales</td>\n",
       "    </tr>\n",
       "    <tr>\n",
       "      <th>1</th>\n",
       "      <td>1</td>\n",
       "      <td>379f55b8-87d5-4739-a146-7400b78c24d1</td>\n",
       "      <td>Jeremy Irwin</td>\n",
       "      <td>90.0</td>\n",
       "      <td>Jillian Jenkins</td>\n",
       "      <td>2022-07-07</td>\n",
       "      <td>139227.000000</td>\n",
       "      <td>NaN</td>\n",
       "    </tr>\n",
       "    <tr>\n",
       "      <th>2</th>\n",
       "      <td>2</td>\n",
       "      <td>18261368-dfa1-47f0-afc6-bddf45926b07</td>\n",
       "      <td>Jennifer Hammondquickly</td>\n",
       "      <td>66.0</td>\n",
       "      <td>jscottgreen.biz</td>\n",
       "      <td>2023-11-21</td>\n",
       "      <td>65550.000000</td>\n",
       "      <td>Engineering</td>\n",
       "    </tr>\n",
       "    <tr>\n",
       "      <th>3</th>\n",
       "      <td>3</td>\n",
       "      <td>ae7cf7cf-17cf-4c8b-9c44-4f61a9a238e5</td>\n",
       "      <td>Sydney Taylorso</td>\n",
       "      <td>39.0</td>\n",
       "      <td>luke56gonzalez.com</td>\n",
       "      <td>2021-11-05</td>\n",
       "      <td>139932.000000</td>\n",
       "      <td>SupportJ</td>\n",
       "    </tr>\n",
       "    <tr>\n",
       "      <th>4</th>\n",
       "      <td>4</td>\n",
       "      <td>14ed3e6a-e0f5-4bbe-8d93-8665267f5c90</td>\n",
       "      <td>Julia Lee</td>\n",
       "      <td>71.0</td>\n",
       "      <td>figueroakayla@yahoo.com</td>\n",
       "      <td>NaN</td>\n",
       "      <td>143456.000000</td>\n",
       "      <td>Marketing</td>\n",
       "    </tr>\n",
       "    <tr>\n",
       "      <th>...</th>\n",
       "      <td>...</td>\n",
       "      <td>...</td>\n",
       "      <td>...</td>\n",
       "      <td>...</td>\n",
       "      <td>...</td>\n",
       "      <td>...</td>\n",
       "      <td>...</td>\n",
       "      <td>...</td>\n",
       "    </tr>\n",
       "    <tr>\n",
       "      <th>10995</th>\n",
       "      <td>6523</td>\n",
       "      <td>07c223be-03e6-4f70-a2b5-86df778cc61a</td>\n",
       "      <td>NaN</td>\n",
       "      <td>NaN</td>\n",
       "      <td>NaN</td>\n",
       "      <td>NaN</td>\n",
       "      <td>NaN</td>\n",
       "      <td>NaN</td>\n",
       "    </tr>\n",
       "    <tr>\n",
       "      <th>10996</th>\n",
       "      <td>9785</td>\n",
       "      <td>da8a6bbc-5026-4630-848d-f64e80dac56c</td>\n",
       "      <td>Steven Armstrong</td>\n",
       "      <td>38.0</td>\n",
       "      <td>molly89gmail.com</td>\n",
       "      <td>2021-06-24</td>\n",
       "      <td>NaN</td>\n",
       "      <td>Sales</td>\n",
       "    </tr>\n",
       "    <tr>\n",
       "      <th>10997</th>\n",
       "      <td>7826</td>\n",
       "      <td>ed19c966-d6d8-4047-b410-b6e595a39340</td>\n",
       "      <td>Stephanie Riossell</td>\n",
       "      <td>NaN</td>\n",
       "      <td>robert96@pollard-frye.com</td>\n",
       "      <td>15/08/2006</td>\n",
       "      <td>122609.594149</td>\n",
       "      <td>HR</td>\n",
       "    </tr>\n",
       "    <tr>\n",
       "      <th>10998</th>\n",
       "      <td>7648</td>\n",
       "      <td>783b36b4-d09f-46c9-8a52-7ff96b80863e</td>\n",
       "      <td>Bonnie Benitez</td>\n",
       "      <td>37.0</td>\n",
       "      <td>roypark@warren.net</td>\n",
       "      <td>2020-10-09</td>\n",
       "      <td>147322.005171</td>\n",
       "      <td>Support</td>\n",
       "    </tr>\n",
       "    <tr>\n",
       "      <th>10999</th>\n",
       "      <td>7107</td>\n",
       "      <td>fc25a38a-5747-46eb-b6d3-7173f8255809</td>\n",
       "      <td>Caroline Ochoa</td>\n",
       "      <td>53.0</td>\n",
       "      <td>cdavis@hodges.com</td>\n",
       "      <td>2023-08-10</td>\n",
       "      <td>149224.000000</td>\n",
       "      <td>Support</td>\n",
       "    </tr>\n",
       "  </tbody>\n",
       "</table>\n",
       "<p>11000 rows × 8 columns</p>\n",
       "</div>"
      ],
      "text/plain": [
       "       Unnamed: 0                                    ID  \\\n",
       "0               0  1e407ff9-6255-489d-a0de-34135d4f74bd   \n",
       "1               1  379f55b8-87d5-4739-a146-7400b78c24d1   \n",
       "2               2  18261368-dfa1-47f0-afc6-bddf45926b07   \n",
       "3               3  ae7cf7cf-17cf-4c8b-9c44-4f61a9a238e5   \n",
       "4               4  14ed3e6a-e0f5-4bbe-8d93-8665267f5c90   \n",
       "...           ...                                   ...   \n",
       "10995        6523  07c223be-03e6-4f70-a2b5-86df778cc61a   \n",
       "10996        9785  da8a6bbc-5026-4630-848d-f64e80dac56c   \n",
       "10997        7826  ed19c966-d6d8-4047-b410-b6e595a39340   \n",
       "10998        7648  783b36b4-d09f-46c9-8a52-7ff96b80863e   \n",
       "10999        7107  fc25a38a-5747-46eb-b6d3-7173f8255809   \n",
       "\n",
       "                          Name   Age                      Email   Join Date  \\\n",
       "0                Hunter Thomas  25.0         xlopez@hotmail.com         NaN   \n",
       "1                 Jeremy Irwin  90.0            Jillian Jenkins  2022-07-07   \n",
       "2      Jennifer Hammondquickly  66.0            jscottgreen.biz  2023-11-21   \n",
       "3              Sydney Taylorso  39.0         luke56gonzalez.com  2021-11-05   \n",
       "4                    Julia Lee  71.0    figueroakayla@yahoo.com         NaN   \n",
       "...                        ...   ...                        ...         ...   \n",
       "10995                      NaN   NaN                        NaN         NaN   \n",
       "10996         Steven Armstrong  38.0           molly89gmail.com  2021-06-24   \n",
       "10997       Stephanie Riossell   NaN  robert96@pollard-frye.com  15/08/2006   \n",
       "10998           Bonnie Benitez  37.0         roypark@warren.net  2020-10-09   \n",
       "10999           Caroline Ochoa  53.0          cdavis@hodges.com  2023-08-10   \n",
       "\n",
       "              Salary   Department  \n",
       "0       88552.000000        Sales  \n",
       "1      139227.000000          NaN  \n",
       "2       65550.000000  Engineering  \n",
       "3      139932.000000     SupportJ  \n",
       "4      143456.000000    Marketing  \n",
       "...              ...          ...  \n",
       "10995            NaN          NaN  \n",
       "10996            NaN        Sales  \n",
       "10997  122609.594149           HR  \n",
       "10998  147322.005171      Support  \n",
       "10999  149224.000000      Support  \n",
       "\n",
       "[11000 rows x 8 columns]"
      ]
     },
     "execution_count": 3,
     "metadata": {},
     "output_type": "execute_result"
    }
   ],
   "source": [
    "messy_data"
   ]
  },
  {
   "cell_type": "code",
   "execution_count": 4,
   "id": "5f36854f",
   "metadata": {},
   "outputs": [
    {
     "data": {
      "text/plain": [
       "(11000, 8)"
      ]
     },
     "execution_count": 4,
     "metadata": {},
     "output_type": "execute_result"
    }
   ],
   "source": [
    "messy_data.shape"
   ]
  },
  {
   "cell_type": "code",
   "execution_count": 5,
   "id": "4e6f90de",
   "metadata": {},
   "outputs": [
    {
     "data": {
      "text/html": [
       "<div>\n",
       "<style scoped>\n",
       "    .dataframe tbody tr th:only-of-type {\n",
       "        vertical-align: middle;\n",
       "    }\n",
       "\n",
       "    .dataframe tbody tr th {\n",
       "        vertical-align: top;\n",
       "    }\n",
       "\n",
       "    .dataframe thead th {\n",
       "        text-align: right;\n",
       "    }\n",
       "</style>\n",
       "<table border=\"1\" class=\"dataframe\">\n",
       "  <thead>\n",
       "    <tr style=\"text-align: right;\">\n",
       "      <th></th>\n",
       "      <th>Unnamed: 0</th>\n",
       "      <th>ID</th>\n",
       "      <th>Name</th>\n",
       "      <th>Age</th>\n",
       "      <th>Email</th>\n",
       "      <th>Join Date</th>\n",
       "      <th>Salary</th>\n",
       "      <th>Department</th>\n",
       "    </tr>\n",
       "  </thead>\n",
       "  <tbody>\n",
       "    <tr>\n",
       "      <th>0</th>\n",
       "      <td>0</td>\n",
       "      <td>1e407ff9-6255-489d-a0de-34135d4f74bd</td>\n",
       "      <td>Hunter Thomas</td>\n",
       "      <td>25.0</td>\n",
       "      <td>xlopez@hotmail.com</td>\n",
       "      <td>NaN</td>\n",
       "      <td>88552.0</td>\n",
       "      <td>Sales</td>\n",
       "    </tr>\n",
       "    <tr>\n",
       "      <th>1</th>\n",
       "      <td>1</td>\n",
       "      <td>379f55b8-87d5-4739-a146-7400b78c24d1</td>\n",
       "      <td>Jeremy Irwin</td>\n",
       "      <td>90.0</td>\n",
       "      <td>Jillian Jenkins</td>\n",
       "      <td>2022-07-07</td>\n",
       "      <td>139227.0</td>\n",
       "      <td>NaN</td>\n",
       "    </tr>\n",
       "    <tr>\n",
       "      <th>2</th>\n",
       "      <td>2</td>\n",
       "      <td>18261368-dfa1-47f0-afc6-bddf45926b07</td>\n",
       "      <td>Jennifer Hammondquickly</td>\n",
       "      <td>66.0</td>\n",
       "      <td>jscottgreen.biz</td>\n",
       "      <td>2023-11-21</td>\n",
       "      <td>65550.0</td>\n",
       "      <td>Engineering</td>\n",
       "    </tr>\n",
       "    <tr>\n",
       "      <th>3</th>\n",
       "      <td>3</td>\n",
       "      <td>ae7cf7cf-17cf-4c8b-9c44-4f61a9a238e5</td>\n",
       "      <td>Sydney Taylorso</td>\n",
       "      <td>39.0</td>\n",
       "      <td>luke56gonzalez.com</td>\n",
       "      <td>2021-11-05</td>\n",
       "      <td>139932.0</td>\n",
       "      <td>SupportJ</td>\n",
       "    </tr>\n",
       "    <tr>\n",
       "      <th>4</th>\n",
       "      <td>4</td>\n",
       "      <td>14ed3e6a-e0f5-4bbe-8d93-8665267f5c90</td>\n",
       "      <td>Julia Lee</td>\n",
       "      <td>71.0</td>\n",
       "      <td>figueroakayla@yahoo.com</td>\n",
       "      <td>NaN</td>\n",
       "      <td>143456.0</td>\n",
       "      <td>Marketing</td>\n",
       "    </tr>\n",
       "  </tbody>\n",
       "</table>\n",
       "</div>"
      ],
      "text/plain": [
       "   Unnamed: 0                                    ID                     Name  \\\n",
       "0           0  1e407ff9-6255-489d-a0de-34135d4f74bd            Hunter Thomas   \n",
       "1           1  379f55b8-87d5-4739-a146-7400b78c24d1             Jeremy Irwin   \n",
       "2           2  18261368-dfa1-47f0-afc6-bddf45926b07  Jennifer Hammondquickly   \n",
       "3           3  ae7cf7cf-17cf-4c8b-9c44-4f61a9a238e5          Sydney Taylorso   \n",
       "4           4  14ed3e6a-e0f5-4bbe-8d93-8665267f5c90                Julia Lee   \n",
       "\n",
       "    Age                    Email   Join Date    Salary   Department  \n",
       "0  25.0       xlopez@hotmail.com         NaN   88552.0        Sales  \n",
       "1  90.0          Jillian Jenkins  2022-07-07  139227.0          NaN  \n",
       "2  66.0          jscottgreen.biz  2023-11-21   65550.0  Engineering  \n",
       "3  39.0       luke56gonzalez.com  2021-11-05  139932.0     SupportJ  \n",
       "4  71.0  figueroakayla@yahoo.com         NaN  143456.0    Marketing  "
      ]
     },
     "execution_count": 5,
     "metadata": {},
     "output_type": "execute_result"
    }
   ],
   "source": [
    "messy_data.head()"
   ]
  },
  {
   "cell_type": "code",
   "execution_count": 6,
   "id": "5ac45ea9",
   "metadata": {},
   "outputs": [
    {
     "data": {
      "text/plain": [
       "Index(['Unnamed: 0', 'ID', 'Name', 'Age', 'Email', 'Join Date', 'Salary',\n",
       "       'Department'],\n",
       "      dtype='object')"
      ]
     },
     "execution_count": 6,
     "metadata": {},
     "output_type": "execute_result"
    }
   ],
   "source": [
    "messy_data.columns"
   ]
  },
  {
   "cell_type": "code",
   "execution_count": 7,
   "id": "c1e1a997",
   "metadata": {},
   "outputs": [
    {
     "name": "stdout",
     "output_type": "stream",
     "text": [
      "<class 'pandas.core.frame.DataFrame'>\n",
      "RangeIndex: 11000 entries, 0 to 10999\n",
      "Data columns (total 8 columns):\n",
      " #   Column      Non-Null Count  Dtype  \n",
      "---  ------      --------------  -----  \n",
      " 0   Unnamed: 0  11000 non-null  int64  \n",
      " 1   ID          11000 non-null  object \n",
      " 2   Name        8667 non-null   object \n",
      " 3   Age         9253 non-null   float64\n",
      " 4   Email       9731 non-null   object \n",
      " 5   Join Date   8808 non-null   object \n",
      " 6   Salary      8761 non-null   float64\n",
      " 7   Department  8745 non-null   object \n",
      "dtypes: float64(2), int64(1), object(5)\n",
      "memory usage: 687.6+ KB\n"
     ]
    }
   ],
   "source": [
    "messy_data.info()"
   ]
  },
  {
   "cell_type": "markdown",
   "id": "e6d79110",
   "metadata": {},
   "source": [
    "# STEP 2: Inspection Of Data"
   ]
  },
  {
   "cell_type": "markdown",
   "id": "fbb37571",
   "metadata": {},
   "source": [
    "### To drop unwanted column "
   ]
  },
  {
   "cell_type": "code",
   "execution_count": 8,
   "id": "bf9985c2",
   "metadata": {},
   "outputs": [],
   "source": [
    "messy_data.drop(columns=['Unnamed: 0'], inplace=True)"
   ]
  },
  {
   "cell_type": "code",
   "execution_count": 9,
   "id": "57e10d10",
   "metadata": {},
   "outputs": [
    {
     "data": {
      "text/plain": [
       "Index(['ID', 'Name', 'Age', 'Email', 'Join Date', 'Salary', 'Department'], dtype='object')"
      ]
     },
     "execution_count": 9,
     "metadata": {},
     "output_type": "execute_result"
    }
   ],
   "source": [
    "messy_data.columns"
   ]
  },
  {
   "cell_type": "markdown",
   "id": "e66ac532",
   "metadata": {},
   "source": [
    "# STEP 3: Handling Missing Values."
   ]
  },
  {
   "cell_type": "code",
   "execution_count": 10,
   "id": "b688efa7",
   "metadata": {},
   "outputs": [
    {
     "data": {
      "text/plain": [
       "ID               0\n",
       "Name          2333\n",
       "Age           1747\n",
       "Email         1269\n",
       "Join Date     2192\n",
       "Salary        2239\n",
       "Department    2255\n",
       "dtype: int64"
      ]
     },
     "execution_count": 10,
     "metadata": {},
     "output_type": "execute_result"
    }
   ],
   "source": [
    "messy_data.isnull().sum()"
   ]
  },
  {
   "cell_type": "code",
   "execution_count": 11,
   "id": "a8247018",
   "metadata": {},
   "outputs": [],
   "source": [
    "# Null values present in the columns Name,Age,Email,Join Date,Salary,Department."
   ]
  },
  {
   "cell_type": "code",
   "execution_count": 12,
   "id": "df767be3",
   "metadata": {},
   "outputs": [],
   "source": [
    "# Finding the percentage of missing values so that the columns with more than 50% of missing values may be dropped"
   ]
  },
  {
   "cell_type": "code",
   "execution_count": 13,
   "id": "a42e9251",
   "metadata": {},
   "outputs": [
    {
     "data": {
      "text/plain": [
       "ID             0.000000\n",
       "Name          21.209091\n",
       "Age           15.881818\n",
       "Email         11.536364\n",
       "Join Date     19.927273\n",
       "Salary        20.354545\n",
       "Department    20.500000\n",
       "dtype: float64"
      ]
     },
     "execution_count": 13,
     "metadata": {},
     "output_type": "execute_result"
    }
   ],
   "source": [
    "messy_data.isnull().sum()/messy_data.shape[0]*100"
   ]
  },
  {
   "cell_type": "code",
   "execution_count": 14,
   "id": "85580fd4",
   "metadata": {},
   "outputs": [],
   "source": [
    "# As none of the columns have missing values above 50%  its been decided that  no columns are dropped."
   ]
  },
  {
   "cell_type": "code",
   "execution_count": 15,
   "id": "a78d5863",
   "metadata": {},
   "outputs": [
    {
     "name": "stdout",
     "output_type": "stream",
     "text": [
      "2239\n"
     ]
    }
   ],
   "source": [
    "print(messy_data['Salary'].isnull().sum())"
   ]
  },
  {
   "cell_type": "markdown",
   "id": "3f19b520",
   "metadata": {},
   "source": [
    "### Replacing Null Values in Age & Salary Columns"
   ]
  },
  {
   "cell_type": "code",
   "execution_count": 16,
   "id": "87186257",
   "metadata": {},
   "outputs": [],
   "source": [
    " pd.options.mode.copy_on_write = True "
   ]
  },
  {
   "cell_type": "code",
   "execution_count": 17,
   "id": "6034ef78",
   "metadata": {},
   "outputs": [],
   "source": [
    "messy_data['Salary'].fillna(messy_data['Salary'].median(), inplace=True)"
   ]
  },
  {
   "cell_type": "code",
   "execution_count": 18,
   "id": "83cf0338",
   "metadata": {},
   "outputs": [
    {
     "name": "stdout",
     "output_type": "stream",
     "text": [
      "2239\n"
     ]
    }
   ],
   "source": [
    "print(messy_data['Salary'].isnull().sum())"
   ]
  },
  {
   "cell_type": "code",
   "execution_count": 19,
   "id": "7edf4b74",
   "metadata": {},
   "outputs": [],
   "source": [
    "messy_data['Age'].fillna(messy_data['Age'].median(), inplace=True)"
   ]
  },
  {
   "cell_type": "code",
   "execution_count": 20,
   "id": "290cd306",
   "metadata": {},
   "outputs": [],
   "source": [
    " pd.options.mode.copy_on_write = True "
   ]
  },
  {
   "cell_type": "code",
   "execution_count": 21,
   "id": "e58131b3",
   "metadata": {},
   "outputs": [],
   "source": [
    "messy_data['Age'].fillna(messy_data['Age'].median(), inplace=True)"
   ]
  },
  {
   "cell_type": "code",
   "execution_count": 22,
   "id": "e4414a9c",
   "metadata": {},
   "outputs": [
    {
     "name": "stdout",
     "output_type": "stream",
     "text": [
      "1747\n"
     ]
    }
   ],
   "source": [
    "print(messy_data['Age'].isnull().sum())"
   ]
  },
  {
   "cell_type": "code",
   "execution_count": 23,
   "id": "a7033f8c",
   "metadata": {},
   "outputs": [],
   "source": [
    "messy_data.dropna(axis=0, how='any', inplace=True)  # Drop rows with missing values"
   ]
  },
  {
   "cell_type": "code",
   "execution_count": 24,
   "id": "655be45d",
   "metadata": {},
   "outputs": [
    {
     "data": {
      "text/plain": [
       "ID            0\n",
       "Name          0\n",
       "Age           0\n",
       "Email         0\n",
       "Join Date     0\n",
       "Salary        0\n",
       "Department    0\n",
       "dtype: int64"
      ]
     },
     "execution_count": 24,
     "metadata": {},
     "output_type": "execute_result"
    }
   ],
   "source": [
    "messy_data.isnull().sum()"
   ]
  },
  {
   "cell_type": "markdown",
   "id": "f8fdf690",
   "metadata": {},
   "source": [
    "### STEP 4: Removing Duplicates"
   ]
  },
  {
   "cell_type": "code",
   "execution_count": 25,
   "id": "dc3258f4",
   "metadata": {},
   "outputs": [
    {
     "data": {
      "text/html": [
       "<div>\n",
       "<style scoped>\n",
       "    .dataframe tbody tr th:only-of-type {\n",
       "        vertical-align: middle;\n",
       "    }\n",
       "\n",
       "    .dataframe tbody tr th {\n",
       "        vertical-align: top;\n",
       "    }\n",
       "\n",
       "    .dataframe thead th {\n",
       "        text-align: right;\n",
       "    }\n",
       "</style>\n",
       "<table border=\"1\" class=\"dataframe\">\n",
       "  <thead>\n",
       "    <tr style=\"text-align: right;\">\n",
       "      <th></th>\n",
       "      <th>ID</th>\n",
       "      <th>Name</th>\n",
       "      <th>Age</th>\n",
       "      <th>Email</th>\n",
       "      <th>Join Date</th>\n",
       "      <th>Salary</th>\n",
       "      <th>Department</th>\n",
       "    </tr>\n",
       "  </thead>\n",
       "  <tbody>\n",
       "    <tr>\n",
       "      <th>2</th>\n",
       "      <td>18261368-dfa1-47f0-afc6-bddf45926b07</td>\n",
       "      <td>Jennifer Hammondquickly</td>\n",
       "      <td>66.0</td>\n",
       "      <td>jscottgreen.biz</td>\n",
       "      <td>2023-11-21</td>\n",
       "      <td>65550.000000</td>\n",
       "      <td>Engineering</td>\n",
       "    </tr>\n",
       "    <tr>\n",
       "      <th>3</th>\n",
       "      <td>ae7cf7cf-17cf-4c8b-9c44-4f61a9a238e5</td>\n",
       "      <td>Sydney Taylorso</td>\n",
       "      <td>39.0</td>\n",
       "      <td>luke56gonzalez.com</td>\n",
       "      <td>2021-11-05</td>\n",
       "      <td>139932.000000</td>\n",
       "      <td>SupportJ</td>\n",
       "    </tr>\n",
       "    <tr>\n",
       "      <th>5</th>\n",
       "      <td>f92ea13f-24d3-4792-91e4-5b0e07d90c2c</td>\n",
       "      <td>Lisa Bailey</td>\n",
       "      <td>81.0</td>\n",
       "      <td>milleryvonne@fowler-york.com</td>\n",
       "      <td>15/10/2016</td>\n",
       "      <td>123018.000000</td>\n",
       "      <td>SupportE</td>\n",
       "    </tr>\n",
       "    <tr>\n",
       "      <th>6</th>\n",
       "      <td>c4892dbb-2554-4ce1-8f11-f6597d7f6782</td>\n",
       "      <td>Patricia Brown DVM</td>\n",
       "      <td>66.0</td>\n",
       "      <td>pperkinshotmail.com</td>\n",
       "      <td>17/09/2020</td>\n",
       "      <td>77311.000000</td>\n",
       "      <td>HR</td>\n",
       "    </tr>\n",
       "    <tr>\n",
       "      <th>9</th>\n",
       "      <td>d06f507d-62e5-4bd6-a252-4e60e109d324</td>\n",
       "      <td>Jay Fisher</td>\n",
       "      <td>44.0</td>\n",
       "      <td>denisemaynard@jordan.com</td>\n",
       "      <td>2022-12-08</td>\n",
       "      <td>37701.725993</td>\n",
       "      <td>HR</td>\n",
       "    </tr>\n",
       "    <tr>\n",
       "      <th>...</th>\n",
       "      <td>...</td>\n",
       "      <td>...</td>\n",
       "      <td>...</td>\n",
       "      <td>...</td>\n",
       "      <td>...</td>\n",
       "      <td>...</td>\n",
       "      <td>...</td>\n",
       "    </tr>\n",
       "    <tr>\n",
       "      <th>10989</th>\n",
       "      <td>4d450808-7caf-432e-bf65-385e715b43fe</td>\n",
       "      <td>Richard Leonard</td>\n",
       "      <td>58.0</td>\n",
       "      <td>luis19@gmail.com</td>\n",
       "      <td>01/05/1982</td>\n",
       "      <td>103005.000000</td>\n",
       "      <td>HRJ</td>\n",
       "    </tr>\n",
       "    <tr>\n",
       "      <th>10990</th>\n",
       "      <td>10c26512-ce3a-4387-b71a-47768503562e</td>\n",
       "      <td>Kimberly Cummings</td>\n",
       "      <td>54.0</td>\n",
       "      <td>rmccoy@hall.com</td>\n",
       "      <td>2020-06-11</td>\n",
       "      <td>60950.500220</td>\n",
       "      <td>Marketing</td>\n",
       "    </tr>\n",
       "    <tr>\n",
       "      <th>10991</th>\n",
       "      <td>612011e6-101d-4ee2-bbca-16a5056d8217</td>\n",
       "      <td>Jeffrey Elliottnation</td>\n",
       "      <td>72.0</td>\n",
       "      <td>jpatterson@wise.org</td>\n",
       "      <td>2021-08-05</td>\n",
       "      <td>50510.777098</td>\n",
       "      <td>Support</td>\n",
       "    </tr>\n",
       "    <tr>\n",
       "      <th>10993</th>\n",
       "      <td>796f8c0b-15a4-475c-bb02-ac892df0c746</td>\n",
       "      <td>Shelley Hopkinslive</td>\n",
       "      <td>79.0</td>\n",
       "      <td>Michael Walker</td>\n",
       "      <td>25/12/1992</td>\n",
       "      <td>47809.000000</td>\n",
       "      <td>HR</td>\n",
       "    </tr>\n",
       "    <tr>\n",
       "      <th>10998</th>\n",
       "      <td>783b36b4-d09f-46c9-8a52-7ff96b80863e</td>\n",
       "      <td>Bonnie Benitez</td>\n",
       "      <td>37.0</td>\n",
       "      <td>roypark@warren.net</td>\n",
       "      <td>2020-10-09</td>\n",
       "      <td>147322.005171</td>\n",
       "      <td>Support</td>\n",
       "    </tr>\n",
       "  </tbody>\n",
       "</table>\n",
       "<p>5977 rows × 7 columns</p>\n",
       "</div>"
      ],
      "text/plain": [
       "                                         ID                     Name   Age  \\\n",
       "2      18261368-dfa1-47f0-afc6-bddf45926b07  Jennifer Hammondquickly  66.0   \n",
       "3      ae7cf7cf-17cf-4c8b-9c44-4f61a9a238e5          Sydney Taylorso  39.0   \n",
       "5      f92ea13f-24d3-4792-91e4-5b0e07d90c2c              Lisa Bailey  81.0   \n",
       "6      c4892dbb-2554-4ce1-8f11-f6597d7f6782       Patricia Brown DVM  66.0   \n",
       "9      d06f507d-62e5-4bd6-a252-4e60e109d324               Jay Fisher  44.0   \n",
       "...                                     ...                      ...   ...   \n",
       "10989  4d450808-7caf-432e-bf65-385e715b43fe          Richard Leonard  58.0   \n",
       "10990  10c26512-ce3a-4387-b71a-47768503562e        Kimberly Cummings  54.0   \n",
       "10991  612011e6-101d-4ee2-bbca-16a5056d8217    Jeffrey Elliottnation  72.0   \n",
       "10993  796f8c0b-15a4-475c-bb02-ac892df0c746      Shelley Hopkinslive  79.0   \n",
       "10998  783b36b4-d09f-46c9-8a52-7ff96b80863e           Bonnie Benitez  37.0   \n",
       "\n",
       "                              Email   Join Date         Salary   Department  \n",
       "2                   jscottgreen.biz  2023-11-21   65550.000000  Engineering  \n",
       "3                luke56gonzalez.com  2021-11-05  139932.000000     SupportJ  \n",
       "5      milleryvonne@fowler-york.com  15/10/2016  123018.000000     SupportE  \n",
       "6               pperkinshotmail.com  17/09/2020   77311.000000           HR  \n",
       "9          denisemaynard@jordan.com  2022-12-08   37701.725993           HR  \n",
       "...                             ...         ...            ...          ...  \n",
       "10989              luis19@gmail.com  01/05/1982  103005.000000          HRJ  \n",
       "10990               rmccoy@hall.com  2020-06-11   60950.500220    Marketing  \n",
       "10991           jpatterson@wise.org  2021-08-05   50510.777098      Support  \n",
       "10993                Michael Walker  25/12/1992   47809.000000           HR  \n",
       "10998            roypark@warren.net  2020-10-09  147322.005171      Support  \n",
       "\n",
       "[5977 rows x 7 columns]"
      ]
     },
     "execution_count": 25,
     "metadata": {},
     "output_type": "execute_result"
    }
   ],
   "source": [
    "messy_data=messy_data.drop_duplicates()\n",
    "messy_data"
   ]
  },
  {
   "cell_type": "code",
   "execution_count": 26,
   "id": "e23b34bc",
   "metadata": {},
   "outputs": [
    {
     "data": {
      "text/plain": [
       "0"
      ]
     },
     "execution_count": 26,
     "metadata": {},
     "output_type": "execute_result"
    }
   ],
   "source": [
    "messy_data.duplicated().sum()"
   ]
  },
  {
   "cell_type": "code",
   "execution_count": 27,
   "id": "15c32beb",
   "metadata": {},
   "outputs": [],
   "source": [
    "# There was 291 duplicate records and the same was deleted"
   ]
  },
  {
   "cell_type": "markdown",
   "id": "a15b8ed8",
   "metadata": {},
   "source": [
    "### STEP5 : Correcting Email formats."
   ]
  },
  {
   "cell_type": "code",
   "execution_count": 28,
   "id": "8999ae46",
   "metadata": {},
   "outputs": [],
   "source": [
    "# Convert all entries in the 'Email' column to strings\n",
    "messy_data['Email'] = messy_data['Email'].astype(str)\n",
    "\n",
    "import re\n",
    "\n",
    "# Function to validate email format\n",
    "def is_valid_email(email):\n",
    "    pattern = r'^[a-zA-Z0-9._%+-]+@[a-zA-Z0-9.-]+\\.[a-zA-Z]{2,}$'\n",
    "    return re.match(pattern, email) is not None\n",
    "\n",
    "# Apply the function to correct email formats\n",
    "messy_data['Email'] = messy_data['Email'].apply(lambda x: x if is_valid_email(x) else None)\n",
    "\n",
    "# Drop rows with invalid emails\n",
    "messy_data.dropna(subset=['Email'], inplace=True) \n"
   ]
  },
  {
   "cell_type": "markdown",
   "id": "02ff6889",
   "metadata": {},
   "source": [
    "### STEP 6: Clean Name Fields"
   ]
  },
  {
   "cell_type": "code",
   "execution_count": 29,
   "id": "9f9d164e",
   "metadata": {},
   "outputs": [
    {
     "name": "stdout",
     "output_type": "stream",
     "text": [
      "Name\n",
      "Crystal Gonzalez          3\n",
      "Christopher Richardson    3\n",
      "Jennifer Smith            3\n",
      "Amy Smith                 3\n",
      "Steven Jones              3\n",
      "                         ..\n",
      "Tonya Ray                 1\n",
      "Renee Lloyd               1\n",
      "Kelly Hill                1\n",
      "Tom Martin                1\n",
      "Jeffrey Elliottnation     1\n",
      "Name: count, Length: 4273, dtype: int64\n"
     ]
    }
   ],
   "source": [
    "print(messy_data['Name'].value_counts())"
   ]
  },
  {
   "cell_type": "code",
   "execution_count": 30,
   "id": "69dabf82",
   "metadata": {},
   "outputs": [
    {
     "name": "stdout",
     "output_type": "stream",
     "text": [
      "Name\n",
      "Crystal Gonzalez          3\n",
      "Christopher Richardson    3\n",
      "Jennifer Smith            3\n",
      "Amy Smith                 3\n",
      "Steven Jones              3\n",
      "                         ..\n",
      "Tonya Ray                 1\n",
      "Renee Lloyd               1\n",
      "Kelly Hill                1\n",
      "Tom Martin                1\n",
      "Jeffrey Elliottnation     1\n",
      "Name: count, Length: 4273, dtype: int64\n"
     ]
    }
   ],
   "source": [
    "# To check for uncommon values under 'Name ' column, threshold option is used assuming that noise is rare\n",
    "threshold = 10\n",
    "uncommon_values = messy_data['Name'].value_counts()[messy_data['Name'].value_counts() < threshold]\n",
    "print(uncommon_values)"
   ]
  },
  {
   "cell_type": "code",
   "execution_count": 31,
   "id": "1f564e0d",
   "metadata": {},
   "outputs": [],
   "source": [
    "# checking for garbage values in object columns"
   ]
  },
  {
   "cell_type": "code",
   "execution_count": 32,
   "id": "2f1f30a4",
   "metadata": {},
   "outputs": [
    {
     "name": "stdout",
     "output_type": "stream",
     "text": [
      "ID\n",
      "509b9d85-0625-468b-b004-7d821a6ed400    2\n",
      "aa1b2231-64b9-41b6-aa1f-3f904ed38157    2\n",
      "63d1bbe7-2bdc-4f79-a43c-281afaa15cd3    2\n",
      "8e9e0d6c-338a-4d8f-9a9f-af0d1032f5ca    2\n",
      "4215c3f8-b558-4ca6-8c2d-5cea96eaa167    2\n",
      "                                       ..\n",
      "90b98e97-77f4-4f35-a15d-493d64937cb6    1\n",
      "efaa181a-2a0d-4779-ac02-8ad0cac9d7b8    1\n",
      "ccf9142d-98c4-4513-9b13-601372f2b7c3    1\n",
      "35d89648-4f48-446b-aba5-1bd81a2c251c    1\n",
      "e198cca1-70c0-465d-8459-82f5b0e71163    1\n",
      "Name: count, Length: 4260, dtype: int64\n",
      "******************************\n",
      "Name\n",
      "Crystal Gonzalez          3\n",
      "Christopher Richardson    3\n",
      "Jennifer Smith            3\n",
      "Amy Smith                 3\n",
      "Steven Jones              3\n",
      "                         ..\n",
      "Tonya Ray                 1\n",
      "Renee Lloyd               1\n",
      "Kelly Hill                1\n",
      "Tom Martin                1\n",
      "Jeffrey Elliottnation     1\n",
      "Name: count, Length: 4273, dtype: int64\n",
      "******************************\n",
      "Email\n",
      "mmurphy@gmail.com                 3\n",
      "kimberly45@sullivan.com           2\n",
      "castanedajamie@knight.org         2\n",
      "hroberts@gmail.com                2\n",
      "david18@michael-bradley.com       2\n",
      "                                 ..\n",
      "eramirez@hotmail.com              1\n",
      "rmartin@hotmail.com               1\n",
      "johnphillips@gmail.com            1\n",
      "aprilknight@taylor-perkins.biz    1\n",
      "weavermary@yahoo.com              1\n",
      "Name: count, Length: 4248, dtype: int64\n",
      "******************************\n",
      "Join Date\n",
      "2023-09-30    8\n",
      "2020-04-08    7\n",
      "2022-07-06    7\n",
      "2022-11-07    7\n",
      "2022-09-02    7\n",
      "             ..\n",
      "07/01/1971    1\n",
      "22/11/2005    1\n",
      "05/11/2002    1\n",
      "08/07/2021    1\n",
      "01/05/1982    1\n",
      "Name: count, Length: 2377, dtype: int64\n",
      "******************************\n",
      "Department\n",
      "Marketing      728\n",
      "Sales          723\n",
      "Support        723\n",
      "Engineering    719\n",
      "HR             680\n",
      "              ... \n",
      "HRo              1\n",
      "SalesC           1\n",
      "Salesx           1\n",
      "SupportJ         1\n",
      "SupportZ         1\n",
      "Name: count, Length: 256, dtype: int64\n",
      "******************************\n"
     ]
    }
   ],
   "source": [
    "for i in messy_data.select_dtypes(include=\"object\").columns:\n",
    "    print(messy_data[i].value_counts())\n",
    "    print(\"***\"*10)"
   ]
  },
  {
   "cell_type": "code",
   "execution_count": 33,
   "id": "87a59b5c",
   "metadata": {},
   "outputs": [],
   "source": [
    "### The above two functions is aimed to detect the presence of garbage values in columns with object datatypes like name,Email,Join date and department"
   ]
  },
  {
   "cell_type": "markdown",
   "id": "2569e2fa",
   "metadata": {},
   "source": [
    "### STEP 7: Standardising Date Formats"
   ]
  },
  {
   "cell_type": "code",
   "execution_count": 34,
   "id": "e9dde3f1",
   "metadata": {},
   "outputs": [],
   "source": [
    "# The date columns are shown as object which has to be converted to string"
   ]
  },
  {
   "cell_type": "code",
   "execution_count": 35,
   "id": "23579514",
   "metadata": {},
   "outputs": [],
   "source": [
    "# converting data type of date from 'object\" to \"datetime\"\n",
    "messy_data['Join Date'] = pd.to_datetime(messy_data['Join Date'], format='mixed') \n",
    "\n",
    "\n",
    "\n",
    "#he errors='coerce' parameter is particularly useful if there are any unexpected date formats or invalid entries in the column."
   ]
  },
  {
   "cell_type": "code",
   "execution_count": 36,
   "id": "32d4fdfc",
   "metadata": {},
   "outputs": [
    {
     "name": "stdout",
     "output_type": "stream",
     "text": [
      "5    2016-10-15\n",
      "9    2022-12-08\n",
      "12   2023-09-08\n",
      "13   2023-06-24\n",
      "14   2003-10-16\n",
      "Name: Join Date, dtype: datetime64[ns]\n"
     ]
    }
   ],
   "source": [
    "print(messy_data['Join Date'].head())"
   ]
  },
  {
   "cell_type": "markdown",
   "id": "91fccadd",
   "metadata": {},
   "source": [
    "### STEP 8: Correcting department names"
   ]
  },
  {
   "cell_type": "code",
   "execution_count": 38,
   "id": "90909299",
   "metadata": {},
   "outputs": [],
   "source": [
    "# For the purpose of correcting department names we need to find out the unique department names available"
   ]
  },
  {
   "cell_type": "code",
   "execution_count": 39,
   "id": "9af4a638",
   "metadata": {},
   "outputs": [
    {
     "name": "stdout",
     "output_type": "stream",
     "text": [
      "Unique department names before cleaning: ['SupportE' 'HR' 'Engineering' 'SalesA' 'Marketing' 'Engineeringi'\n",
      " 'Salesw' 'Sales' 'SalesK' 'MarketingU' 'Support' 'Supporty' 'Marketinge'\n",
      " 'MarketingR' 'HRv' 'SalesM' 'EngineeringL' 'MarketingQ' 'HRs' 'Supportj'\n",
      " 'Salesd' 'SalesU' 'MarketingH' 'Salesj' 'Saleso' 'Engineeringe'\n",
      " 'Marketingr' 'Engineeringm' 'SalesW' 'Engineeringp' 'SalesC'\n",
      " 'EngineeringK' 'SalesN' 'HRo' 'SupportB' 'HRi' 'Supporta' 'HRn'\n",
      " 'SupportC' 'Supportm' 'Supporto' 'EngineeringH' 'Marketingw'\n",
      " 'EngineeringM' 'Salesy' 'HRE' 'Marketingm' 'HRw' 'Supportk' 'SupportS'\n",
      " 'EngineeringD' 'Marketingz' 'Salesr' 'Engineeringn' 'MarketingO' 'SalesF'\n",
      " 'Salesz' 'Marketingt' 'Engineeringv' 'HRL' 'HRI' 'HRW' 'EngineeringR'\n",
      " 'Salese' 'Saless' 'Salesn' 'SalesE' 'HRy' 'SalesD' 'HRz' 'MarketingG'\n",
      " 'Marketingn' 'SalesI' 'Engineeringg' 'MarketingE' 'Marketingk' 'SupportA'\n",
      " 'Engineeringq' 'EngineeringQ' 'EngineeringA' 'Supporte' 'Engineeringu'\n",
      " 'EngineeringO' 'Supportv' 'HRK' 'Engineeringb' 'SalesV' 'HRT' 'SupportY'\n",
      " 'MarketingX' 'Supportp' 'HRU' 'HRg' 'SalesS' 'Marketingl' 'Engineeringt'\n",
      " 'MarketingD' 'EngineeringX' 'Marketingh' 'MarketingF' 'EngineeringC'\n",
      " 'Engineeringz' 'HRP' 'Salesv' 'Engineeringk' 'SupportH' 'Supportq' 'HRJ'\n",
      " 'Supportd' 'HRZ' 'SupportJ' 'MarketingZ' 'Salesc' 'EngineeringJ'\n",
      " 'EngineeringT' 'Supportl' 'SupportQ' 'EngineeringG' 'SalesH' 'SupportV'\n",
      " 'HRq' 'Engineeringc' 'SupportL' 'Supportt' 'EngineeringF' 'SupportP'\n",
      " 'MarketingN' 'Engineeringf' 'HRA' 'HRp' 'EngineeringZ' 'HRl' 'Marketingb'\n",
      " 'HRr' 'MarketingV' 'HRM' 'MarketingC' 'Supporti' 'Marketingx'\n",
      " 'MarketingJ' 'Marketingi' 'Engineeringh' 'Supportw' 'Engineerings'\n",
      " 'Supportb' 'Salesl' 'SalesO' 'Marketingf' 'Marketingg' 'SupportK'\n",
      " 'Engineeringd' 'HRN' 'HRk' 'Marketingd' 'SalesR' 'MarketingS'\n",
      " 'MarketingL' 'MarketingT' 'Engineeringw' 'Salesg' 'HRB' 'EngineeringV'\n",
      " 'HRb' 'SupportN' 'SupportO' 'SalesX' 'SupportG' 'Marketingc' 'Supportn'\n",
      " 'EngineeringE' 'EngineeringU' 'Supportx' 'SalesB' 'Salesp' 'Salesk'\n",
      " 'SalesY' 'SalesL' 'Marketingq' 'SupportD' 'Salesu' 'Engineeringx'\n",
      " 'Engineeringr' 'EngineeringW' 'HRC' 'SupportF' 'Marketingj' 'HRY'\n",
      " 'Marketingy' 'MarketingM' 'HRm' 'HRF' 'HRH' 'Engineeringa' 'SupportU'\n",
      " 'Salesa' 'Salesf' 'Engineeringl' 'MarketingY' 'Supportf' 'HRd' 'HRX'\n",
      " 'Salest' 'HRu' 'SalesZ' 'EngineeringB' 'Salesi' 'HRj' 'HRe' 'SupportX'\n",
      " 'EngineeringN' 'SupportM' 'HRV' 'HRG' 'MarketingB' 'HRR' 'Supportu'\n",
      " 'Supportc' 'MarketingK' 'Marketingv' 'HRa' 'Engineeringj' 'EngineeringS'\n",
      " 'HRt' 'Engineeringy' 'Salesm' 'SupportI' 'HRf' 'HRS' 'Supportr'\n",
      " 'EngineeringI' 'SalesJ' 'SupportT' 'SupportR' 'EngineeringP' 'Salesx'\n",
      " 'Marketings' 'SupportW' 'HRh' 'Marketingp' 'Supports' 'HRc' 'Supportg'\n",
      " 'SalesT' 'Supportz' 'SalesG' 'SalesQ' 'Marketingu' 'Supporth' 'Salesq'\n",
      " 'Salesb' 'SalesP' 'Marketinga' 'HRD' 'MarketingP' 'MarketingI' 'SupportZ']\n"
     ]
    }
   ],
   "source": [
    "unique_departments = messy_data['Department'].unique()\n",
    "print(\"Unique department names before cleaning:\", unique_departments)"
   ]
  },
  {
   "cell_type": "code",
   "execution_count": 40,
   "id": "e98043a0",
   "metadata": {},
   "outputs": [],
   "source": [
    "# Define the department mapping dictionary\n",
    "department_mapping = {\n",
    "    \"Sales\": ['sales', 'salesa', 'salesx', 'salesw', 'salesk', 'salesm', 'salesd', \n",
    "              'salesu', 'salesj', 'saleso', 'salesz', 'salesw', 'salesc', 'salesy', \n",
    "              'salesn', 'salest', 'salesl', 'salesr', 'salesf', 'salesz', 'salese', \n",
    "              'salesd', 'salesy', 'salesi', 'salesu', 'salesv', 'salesv', 'saless', \n",
    "              'salesj', 'salesk', 'salesz', 'salesq', 'salesh', 'salesv', 'salesk', \n",
    "              'salesi', 'salesc', 'salesq', 'salesh', 'salesb', 'saleso', 'salesr', \n",
    "              'salesl', 'salest', 'salesg', 'salesp', 'salesr', 'salesm', 'salesp', \n",
    "              'salesl', 'salest', 'salesb', 'salesm', 'salesg', 'salesq', 'salesp', \n",
    "              'salesx', 'salesg', 'salesq', 'salesb'],\n",
    "    \"Marketing\": ['marketing', 'marketingr', 'marketingu', 'marketinge', 'marketingv', \n",
    "                  'marketingq', 'marketingu', 'marketingh', 'marketingr', 'marketingm', \n",
    "                  'marketingw', 'marketingd', 'marketingk', 'marketinge', 'marketingn', \n",
    "                  'marketingp', 'marketingt', 'marketingv', 'marketingx', 'marketingl', \n",
    "                  'marketingh', 'marketingf', 'marketingz', 'marketingo', 'marketingg', \n",
    "                  'marketingn', 'marketinge', 'marketingk', 'marketingf', 'marketingl', \n",
    "                  'marketingx', 'marketingh', 'marketingf', 'marketingb', 'marketingz', \n",
    "                  'marketingc', 'marketinga', 'marketingj', 'marketingv', 'marketingx', \n",
    "                  'marketingj', 'marketingb', 'marketingz', 'marketings', 'marketingl', \n",
    "                  'marketingt', 'marketingk', 'marketingq', 'marketingd', 'marketings', \n",
    "                  'marketingw', 'marketingy', 'marketingm', 'marketingi', 'marketingy', \n",
    "                  'marketingk', 'marketingq', 'marketingp'],\n",
    "    \"Support\": ['supporte', 'supporty', 'supportj', 'supportc', 'supportb', 'supportg', \n",
    "                'supporta', 'supportq', 'supportm', 'supporto', 'supportz', 'supportu', \n",
    "                'supporta', 'supporte', 'supportv', 'supporty', 'supportp', 'supportu', \n",
    "                'supporth', 'supportq', 'supportd', 'supportj', 'supportl', 'supportx', \n",
    "                'supportv', 'supporti', 'supportl', 'supportt', 'supportp', 'supporth', \n",
    "                'supportq', 'supporti', 'supportw', 'supportb', 'supportk', 'supportd', \n",
    "                'supports', 'supportr', 'supporto', 'supportf', 'supportw', 'supporti', \n",
    "                'supportf', 'supportm', 'supportn', 'supportg', 'supportx', 'supportz', \n",
    "                'supportc', 'supportn', 'supportp', 'supportf', 'supportm', 'supportr'],\n",
    "    \"HR\": ['hr', 'hrv', 'hrs', 'hrt', 'hrf', 'hro', 'hri', 'hrn', 'hrr', 'hrw', 'hry', \n",
    "           'hrm', 'hrz', 'hre', 'hru', 'hrp', 'hrg', 'hrk', 'hrt', 'hrp', 'hrg', 'hrj', \n",
    "           'hrz', 'hrq', 'hrm', 'hrp', 'hrx', 'hrf', 'hrb', 'hrj', 'hra', 'hrl', 'hri', \n",
    "           'hrw', 'hrl', 'hrn', 'hrh', 'hrk', 'hrh', 'hrq', 'hrc', 'hre', 'hra', 'hrg', \n",
    "           'hrv', 'hrx', 'hrs', 'hro', 'hrc'],\n",
    "    \"Engineering\": ['engineering', 'engineeringi', 'engineeringl', 'engineeringe', \n",
    "                    'engineeringm', 'engineeringh', 'engineeringm', 'engineeringd', \n",
    "                    'engineeringv', 'engineeringn', 'engineeringt', 'engineeringx', \n",
    "                    'engineeringc', 'engineeringc', 'engineeringz', 'engineeringr', \n",
    "                    'engineeringp', 'engineeringk', 'engineeringq', 'engineeringq', \n",
    "                    'engineeringa', 'engineeringu', 'engineeringo', 'engineeringb', \n",
    "                    'engineeringt', 'engineeringh', 'engineeringl', 'engineeringg', \n",
    "                    'engineeringe', 'engineeringf', 'engineeringf', 'engineeringb', \n",
    "                    'engineeringn', 'engineeringy', 'engineerings', 'engineeringp', \n",
    "                    'engineeringw', 'engineeringi', 'engineeringj', 'engineeringx', \n",
    "                    'engineeringr', 'engineeringw', 'engineeringi', 'engineerings'],\n",
    "    \"Undefined/NaN\": ['nan']\n",
    "}\n",
    "\n",
    "# Normalize department names to lowercase\n",
    "messy_data['Department'] = messy_data['Department'].str.lower()\n",
    "\n",
    "# Map the department names using the predefined dictionary\n",
    "def map_department(dept):\n",
    "    for key, values in department_mapping.items():\n",
    "        if dept in values:\n",
    "            return key\n",
    "    return 'Unknown'\n",
    "\n",
    "messy_data['Department'] = messy_data['Department'].apply(map_department)\n",
    "\n",
    "# Handle any unmapped values\n",
    "messy_data['Department'].fillna('Unknown', inplace=True)\n"
   ]
  },
  {
   "cell_type": "code",
   "execution_count": 41,
   "id": "f3817354",
   "metadata": {},
   "outputs": [
    {
     "data": {
      "text/html": [
       "<div>\n",
       "<style scoped>\n",
       "    .dataframe tbody tr th:only-of-type {\n",
       "        vertical-align: middle;\n",
       "    }\n",
       "\n",
       "    .dataframe tbody tr th {\n",
       "        vertical-align: top;\n",
       "    }\n",
       "\n",
       "    .dataframe thead th {\n",
       "        text-align: right;\n",
       "    }\n",
       "</style>\n",
       "<table border=\"1\" class=\"dataframe\">\n",
       "  <thead>\n",
       "    <tr style=\"text-align: right;\">\n",
       "      <th></th>\n",
       "      <th>ID</th>\n",
       "      <th>Name</th>\n",
       "      <th>Age</th>\n",
       "      <th>Email</th>\n",
       "      <th>Join Date</th>\n",
       "      <th>Salary</th>\n",
       "      <th>Department</th>\n",
       "    </tr>\n",
       "  </thead>\n",
       "  <tbody>\n",
       "    <tr>\n",
       "      <th>5</th>\n",
       "      <td>f92ea13f-24d3-4792-91e4-5b0e07d90c2c</td>\n",
       "      <td>Lisa Bailey</td>\n",
       "      <td>81.0</td>\n",
       "      <td>milleryvonne@fowler-york.com</td>\n",
       "      <td>2016-10-15</td>\n",
       "      <td>123018.000000</td>\n",
       "      <td>Support</td>\n",
       "    </tr>\n",
       "    <tr>\n",
       "      <th>9</th>\n",
       "      <td>d06f507d-62e5-4bd6-a252-4e60e109d324</td>\n",
       "      <td>Jay Fisher</td>\n",
       "      <td>44.0</td>\n",
       "      <td>denisemaynard@jordan.com</td>\n",
       "      <td>2022-12-08</td>\n",
       "      <td>37701.725993</td>\n",
       "      <td>HR</td>\n",
       "    </tr>\n",
       "    <tr>\n",
       "      <th>12</th>\n",
       "      <td>da63d159-e9b0-4b92-b0fe-4e87df3aebc1</td>\n",
       "      <td>Amber Marsh</td>\n",
       "      <td>23.0</td>\n",
       "      <td>robert43@gmail.com</td>\n",
       "      <td>2023-09-08</td>\n",
       "      <td>112970.000000</td>\n",
       "      <td>Engineering</td>\n",
       "    </tr>\n",
       "    <tr>\n",
       "      <th>13</th>\n",
       "      <td>5ca27087-5c90-4d42-94d0-7e9ee3f422b9</td>\n",
       "      <td>Patrick Mooney</td>\n",
       "      <td>57.0</td>\n",
       "      <td>bowersjasmine@hotmail.com</td>\n",
       "      <td>2023-06-24</td>\n",
       "      <td>41511.139646</td>\n",
       "      <td>Sales</td>\n",
       "    </tr>\n",
       "    <tr>\n",
       "      <th>14</th>\n",
       "      <td>9b83a5e5-9516-493f-86f8-d6c445edb501</td>\n",
       "      <td>Nicole Cardenas</td>\n",
       "      <td>60.0</td>\n",
       "      <td>griffinlinda@harrison.com</td>\n",
       "      <td>2003-10-16</td>\n",
       "      <td>51625.814403</td>\n",
       "      <td>Marketing</td>\n",
       "    </tr>\n",
       "  </tbody>\n",
       "</table>\n",
       "</div>"
      ],
      "text/plain": [
       "                                      ID             Name   Age  \\\n",
       "5   f92ea13f-24d3-4792-91e4-5b0e07d90c2c      Lisa Bailey  81.0   \n",
       "9   d06f507d-62e5-4bd6-a252-4e60e109d324       Jay Fisher  44.0   \n",
       "12  da63d159-e9b0-4b92-b0fe-4e87df3aebc1      Amber Marsh  23.0   \n",
       "13  5ca27087-5c90-4d42-94d0-7e9ee3f422b9   Patrick Mooney  57.0   \n",
       "14  9b83a5e5-9516-493f-86f8-d6c445edb501  Nicole Cardenas  60.0   \n",
       "\n",
       "                           Email  Join Date         Salary   Department  \n",
       "5   milleryvonne@fowler-york.com 2016-10-15  123018.000000      Support  \n",
       "9       denisemaynard@jordan.com 2022-12-08   37701.725993           HR  \n",
       "12            robert43@gmail.com 2023-09-08  112970.000000  Engineering  \n",
       "13     bowersjasmine@hotmail.com 2023-06-24   41511.139646        Sales  \n",
       "14     griffinlinda@harrison.com 2003-10-16   51625.814403    Marketing  "
      ]
     },
     "execution_count": 41,
     "metadata": {},
     "output_type": "execute_result"
    }
   ],
   "source": [
    "messy_data.head()"
   ]
  },
  {
   "cell_type": "code",
   "execution_count": 42,
   "id": "62bf823d",
   "metadata": {},
   "outputs": [
    {
     "name": "stdout",
     "output_type": "stream",
     "text": [
      "Unique department names after cleaning: ['Support' 'HR' 'Engineering' 'Sales' 'Marketing' 'Unknown']\n"
     ]
    }
   ],
   "source": [
    "# Verify the changes by displaying unique department names after cleaning\n",
    "cleaned_departments = messy_data['Department'].unique()\n",
    "print(\"Unique department names after cleaning:\", cleaned_departments)"
   ]
  },
  {
   "cell_type": "markdown",
   "id": "e85f73b7",
   "metadata": {},
   "source": [
    "### STEP 9- Handling Salary Noise"
   ]
  },
  {
   "cell_type": "code",
   "execution_count": 43,
   "id": "5ffba8ef",
   "metadata": {},
   "outputs": [],
   "source": [
    "messy_data['Salary'] = messy_data['Salary'].round(2)"
   ]
  },
  {
   "cell_type": "code",
   "execution_count": 44,
   "id": "62c81bf6",
   "metadata": {},
   "outputs": [
    {
     "name": "stdout",
     "output_type": "stream",
     "text": [
      "5     123018.00\n",
      "9      37701.73\n",
      "12    112970.00\n",
      "13     41511.14\n",
      "14     51625.81\n",
      "Name: Salary, dtype: float64\n"
     ]
    }
   ],
   "source": [
    "print(messy_data['Salary'].head())"
   ]
  },
  {
   "cell_type": "code",
   "execution_count": 45,
   "id": "a8fb2db8",
   "metadata": {},
   "outputs": [
    {
     "name": "stdout",
     "output_type": "stream",
     "text": [
      "<class 'pandas.core.frame.DataFrame'>\n",
      "Index: 4486 entries, 5 to 10998\n",
      "Data columns (total 7 columns):\n",
      " #   Column      Non-Null Count  Dtype         \n",
      "---  ------      --------------  -----         \n",
      " 0   ID          4486 non-null   object        \n",
      " 1   Name        4486 non-null   object        \n",
      " 2   Age         4486 non-null   float64       \n",
      " 3   Email       4486 non-null   object        \n",
      " 4   Join Date   4486 non-null   datetime64[ns]\n",
      " 5   Salary      4486 non-null   float64       \n",
      " 6   Department  4486 non-null   object        \n",
      "dtypes: datetime64[ns](1), float64(2), object(4)\n",
      "memory usage: 280.4+ KB\n"
     ]
    }
   ],
   "source": [
    "messy_data.info()\n"
   ]
  },
  {
   "cell_type": "code",
   "execution_count": 47,
   "id": "5ec565ec",
   "metadata": {},
   "outputs": [],
   "source": [
    "# Save the cleaned dataset\n",
    "messy_data.to_csv('cleaned_dataset.csv', index=False)"
   ]
  },
  {
   "cell_type": "markdown",
   "id": "8a89ccb4",
   "metadata": {},
   "source": [
    "# PROCESS DOCUMENTATION"
   ]
  },
  {
   "cell_type": "markdown",
   "id": "f8385ac6",
   "metadata": {},
   "source": [
    "STEP:1 Loading Dataset.\n",
    "\n",
    "1. Initially the csv file was loaded to the jupyter notebook. After importing necessary libraries like pandas and numpy , basic    operations like shape, info, describe & column names were executed.\n",
    "\n",
    "\n",
    "Step: 2 Inspecting Data\n",
    "   On conducting thorough scrutiny of the data set , following discrepencies were observed:\n",
    "1. presence of unwanted column-\tUnnamed: 0\n",
    "2. Presence of Duplicate rows & columns\n",
    "3. Null values existing in columns like salary, Age,Email,Join date,Salary and department\n",
    "\n",
    "\n",
    "Step:3 Handling Missing values\n",
    "1. Missing values detected in salary and age column was replaced with median assuming that outliers may exist.\n",
    "2. While replacing salary & age column with median , some error occured and to handle the same\n",
    "   \"pd.options.mode.copy_on_write = True\" code was used.  \n",
    "3. percentage of null values under various columns was calculated so as to drop the same if it exceeeds 50%. However , null    values present under various columns was less than 50%, hence no columns dropped.\n",
    "\n",
    "Step:4 Removing Duplicates\n",
    "1. All the duplicate values dropped using drop duplicate option.\n",
    "\n",
    "Step:5 Correcting Email formats\n",
    " 1. Emails were in object format and the initial step was to convert the same to string.\n",
    " 2. The is_valid_email Function uses a regular expression to check if an email address is in a valid format. The pattern matches     common email formats.\n",
    " 3. Thirdly using the lambda function all valid emails were sorted replacing the invalid ones with \"None\"and lastly the rows         invalid email format dropped.\n",
    " \n",
    "Step :6 Cleaning name fields\n",
    "1. To check for uncommon values under 'Name ' column, threshold option is used assuming that noise is rare. However no such        instances was detected.\n",
    "2. The threshold option used to determine the occurence of uncommon values. In this case , it has been assumed that any value      appearing fewer than 10 times is considered uncommon.\n",
    "3. Initially the values with count below threshold is filtered, then the same is stored under uncommon values and the same is       printed.\n",
    "4. Also as an additional measure  the columns with \"object datatype\" was run through for loop function to detect the presence of garbage values and the result shown null.\n",
    "\n",
    "\n",
    "Step :7 Standardising Date Formats.\n",
    "  \n",
    " 1. The date available in the dataset was in \"object\" datatype and the same was converted to string first and then converted to     yyyy/mm/dd format.\n",
    " \n",
    "STEP 8: Correcting department names.\n",
    "\n",
    "1. The department name column was a total mess with too much of unique values\n",
    "2. Firstly all department values were mapped to common department dictionary names like marketing, HR, Sales,support,        engineering & Na\n",
    "3. Secondly all was converted to lower case so as to maintain consistency.\n",
    "4. Thirdly the department names was mapped using for loop and applied the same to \"department\" column.\n",
    "5. Lastly the unmapped ones with NA was filled with 'unknown' value, followed by  Verifying the changes by displaying unique       department names after cleaning.\n",
    "\n",
    "\n",
    "STEP 9- Handling Salary Noise.\n",
    "1. Salary column consisted of decimals more than two digits.So the same was rounded off to nearest two digits.\n",
    "\n",
    "Finally the cleaned data set was converted to csv file using messy_data to_csv('cleaned_dataset.csv', index=False)"
   ]
  },
  {
   "cell_type": "code",
   "execution_count": null,
   "id": "6f79ce73",
   "metadata": {},
   "outputs": [],
   "source": []
  }
 ],
 "metadata": {
  "kernelspec": {
   "display_name": "Python 3 (ipykernel)",
   "language": "python",
   "name": "python3"
  },
  "language_info": {
   "codemirror_mode": {
    "name": "ipython",
    "version": 3
   },
   "file_extension": ".py",
   "mimetype": "text/x-python",
   "name": "python",
   "nbconvert_exporter": "python",
   "pygments_lexer": "ipython3",
   "version": "3.11.1"
  }
 },
 "nbformat": 4,
 "nbformat_minor": 5
}
